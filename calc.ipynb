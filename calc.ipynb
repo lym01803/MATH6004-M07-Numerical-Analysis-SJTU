{
 "cells": [
  {
   "cell_type": "code",
   "execution_count": 79,
   "metadata": {},
   "outputs": [
    {
     "name": "stdout",
     "output_type": "stream",
     "text": [
      "\n",
      "        \\left[\\begin{array}{ccccc}\n",
      "              0 &   0 &   0 &   0 &   0 \\\\   0 &   0 &   0 &   0 &   0 \\\\   0 &   0 &   0 &   0 &   0\n",
      "        \\end{array}\\right]\n",
      "    \n"
     ]
    }
   ],
   "source": [
    "import numpy as np\n",
    "\n",
    "\n",
    "def matrix2latex(A: np.array, n: int = 4):\n",
    "    n, m = A.shape[:2]\n",
    "    newline = r' \\\\ '\n",
    "    command = f\"\"\"\n",
    "        \\\\left[\\\\begin{{array}}{{{\"c\"*m}}}\n",
    "            {(newline.join(\" & \".join('{:{}g}'.format(A[i][j], n) for j in range(m)) for i in range(n)))}\n",
    "        \\\\end{{array}}\\\\right]\n",
    "    \"\"\"\n",
    "    return command\n",
    "\n",
    "print(matrix2latex(np.zeros((3, 5))))\n"
   ]
  },
  {
   "cell_type": "code",
   "execution_count": 35,
   "metadata": {},
   "outputs": [
    {
     "name": "stdout",
     "output_type": "stream",
     "text": [
      "[[0.07166648 1.52931806 3.24033653 0.95701732]\n",
      " [4.30858282 4.69666905 4.1093449  4.61480882]\n",
      " [1.43128065 2.77389739 2.85786731 1.69766613]\n",
      " [2.32362252 0.22160706 2.05932556 2.27741496]]\n",
      "[[0.0717 1.53   3.24   0.957 ]\n",
      " [4.31   4.7    4.11   4.61  ]\n",
      " [1.43   2.77   2.86   1.7   ]\n",
      " [2.32   0.222  2.06   2.28  ]]\n"
     ]
    }
   ],
   "source": [
    "def valid_n(n: int):\n",
    "    valid_number_n = lambda x : float(np.format_float_scientific(x, n, True))\n",
    "    return np.vectorize(valid_number_n)\n",
    "\n",
    "def round_n(n: int):\n",
    "    valid_number_n = lambda x : round(x, n)\n",
    "    return np.vectorize(valid_number_n)\n",
    "\n",
    "f = valid_n(3 - 1)\n",
    "A = np.random.random((4, 4)) * 5\n",
    "print(A)\n",
    "print(f(A))"
   ]
  },
  {
   "cell_type": "code",
   "execution_count": 45,
   "metadata": {},
   "outputs": [
    {
     "name": "stdout",
     "output_type": "stream",
     "text": [
      "[[0.4096 0.1234 0.3678 0.2943]\n",
      " [0.2246 0.3872 0.4015 0.1129]\n",
      " [0.3645 0.192  0.3781 0.0643]\n",
      " [0.1784 0.4002 0.2786 0.3927]]\n",
      "[[ 0.4043]\n",
      " [ 0.155 ]\n",
      " [ 0.424 ]\n",
      " [-0.2557]]\n",
      "\n",
      "        \\begin{array}{cccc}\n",
      "            0.4096 & 0.1234 & 0.3678 & 0.2943 \\\\ 0.2246 & 0.3872 & 0.4015 & 0.1129 \\\\ 0.3645 & 0.192 & 0.3781 & 0.0643 \\\\ 0.1784 & 0.4002 & 0.2786 & 0.3927\n",
      "        \\end{array}\n",
      "     \n",
      "        \\begin{array}{c}\n",
      "            0.4043 \\\\ 0.155 \\\\ 0.424 \\\\ -0.2557\n",
      "        \\end{array}\n",
      "    \n"
     ]
    }
   ],
   "source": [
    "A = np.array([\n",
    "    [0.4096, 0.1234, 0.3678, 0.2943],\n",
    "    [0.2246, 0.3872, 0.4015, 0.1129],\n",
    "    [0.3645, 0.1920, 0.3781, 0.0643],\n",
    "    [0.1784, 0.4002, 0.2786, 0.3927]\n",
    "])\n",
    "b = np.array([\n",
    "    [0.4043],\n",
    "    [0.1550],\n",
    "    [0.4240],\n",
    "    [-0.2557]\n",
    "])\n",
    "print(A)\n",
    "print(b)\n",
    "commandA = matrix2latex(A)\n",
    "commandb = matrix2latex(b)\n",
    "print(commandA, commandb)"
   ]
  },
  {
   "cell_type": "code",
   "execution_count": 46,
   "metadata": {},
   "outputs": [
    {
     "name": "stdout",
     "output_type": "stream",
     "text": [
      "[[ 1.      0.      0.      0.    ]\n",
      " [-0.5483  1.      0.      0.    ]\n",
      " [-0.8899  0.      1.      0.    ]\n",
      " [-0.4355  0.      0.      1.    ]]\n",
      "\n",
      "        \\begin{array}{cccc}\n",
      "               1 &    0 &    0 &    0 \\\\ -0.5483 &    1 &    0 &    0 \\\\ -0.8899 &    0 &    1 &    0 \\\\ -0.4355 &    0 &    0 &    1\n",
      "        \\end{array}\n",
      "    \n",
      "[[ 0.4096  0.1234  0.3678  0.2943]\n",
      " [ 0.      0.3195  0.1998 -0.0485]\n",
      " [-0.      0.0822  0.0508 -0.1976]\n",
      " [ 0.      0.3465  0.1184  0.2645]]\n",
      "[[ 0.4043]\n",
      " [-0.0667]\n",
      " [ 0.0642]\n",
      " [-0.4318]]\n",
      "\n",
      "        \\begin{array}{cccc}\n",
      "            0.4096 & 0.1234 & 0.3678 & 0.2943 \\\\    0 & 0.3195 & 0.1998 & -0.0485 \\\\   -0 & 0.0822 & 0.0508 & -0.1976 \\\\    0 & 0.3465 & 0.1184 & 0.2645\n",
      "        \\end{array}\n",
      "    \n",
      "\n",
      "        \\begin{array}{c}\n",
      "            0.4043 \\\\ -0.0667 \\\\ 0.0642 \\\\ -0.4318\n",
      "        \\end{array}\n",
      "    \n"
     ]
    }
   ],
   "source": [
    "R = np.array([\n",
    "    [1., 0., 0., 0.],\n",
    "    [-A[1][0] / A[0][0], 1., 0., 0.],\n",
    "    [-A[2][0] / A[0][0], 0., 1., 0.],\n",
    "    [-A[3][0] / A[0][0], 0., 0., 1.]\n",
    "])\n",
    "\n",
    "f = round_n(4)\n",
    "R = f(R)\n",
    "\n",
    "print(R)\n",
    "print(matrix2latex(R))\n",
    "\n",
    "A2 = f(R @ A)\n",
    "b2 = f(R @ b)\n",
    "\n",
    "print(A2)\n",
    "print(b2)\n",
    "print(matrix2latex(A2))\n",
    "print(matrix2latex(b2))"
   ]
  },
  {
   "cell_type": "code",
   "execution_count": 49,
   "metadata": {},
   "outputs": [
    {
     "name": "stdout",
     "output_type": "stream",
     "text": [
      "[[ 1.      0.      0.      0.    ]\n",
      " [ 0.      1.      0.      0.    ]\n",
      " [ 0.     -0.2573  1.      0.    ]\n",
      " [ 0.     -1.0845  0.      1.    ]]\n",
      "\n",
      "        \\begin{array}{cccc}\n",
      "               1 &    0 &    0 &    0 \\\\    0 &    1 &    0 &    0 \\\\    0 & -0.2573 &    1 &    0 \\\\    0 & -1.0845 &    0 &    1\n",
      "        \\end{array}\n",
      "    \n",
      "[[ 0.4096  0.1234  0.3678  0.2943]\n",
      " [ 0.      0.3195  0.1998 -0.0485]\n",
      " [ 0.     -0.     -0.0006 -0.1851]\n",
      " [ 0.      0.     -0.0983  0.3171]]\n",
      "[[ 0.4043]\n",
      " [-0.0667]\n",
      " [ 0.0814]\n",
      " [-0.3595]]\n",
      "\n",
      "        \\begin{array}{cccc}\n",
      "            0.4096 & 0.1234 & 0.3678 & 0.2943 \\\\    0 & 0.3195 & 0.1998 & -0.0485 \\\\    0 &   -0 & -0.0006 & -0.1851 \\\\    0 &    0 & -0.0983 & 0.3171\n",
      "        \\end{array}\n",
      "    \n",
      "\n",
      "        \\begin{array}{c}\n",
      "            0.4043 \\\\ -0.0667 \\\\ 0.0814 \\\\ -0.3595\n",
      "        \\end{array}\n",
      "    \n"
     ]
    }
   ],
   "source": [
    "R2 = np.array([\n",
    "    [1., 0., 0., 0.],\n",
    "    [0., 1., 0., 0.],\n",
    "    [0., -A2[2][1] / A2[1][1], 1., 0.],\n",
    "    [0., -A2[3][1] / A2[1][1], 0., 1.]\n",
    "])\n",
    "# print(R2)\n",
    "R2 = f(R2)\n",
    "print(R2)\n",
    "\n",
    "print(matrix2latex(R2))\n",
    "\n",
    "A3 = f(R2 @ A2)\n",
    "b3 = f(R2 @ b2)\n",
    "print(A3)\n",
    "print(b3)\n",
    "print(matrix2latex(A3))\n",
    "print(matrix2latex(b3))"
   ]
  },
  {
   "cell_type": "code",
   "execution_count": 50,
   "metadata": {},
   "outputs": [
    {
     "name": "stdout",
     "output_type": "stream",
     "text": [
      "[[   1.        0.        0.        0.    ]\n",
      " [   0.        1.        0.        0.    ]\n",
      " [   0.        0.        1.        0.    ]\n",
      " [   0.        0.     -163.8333    1.    ]]\n",
      "\n",
      "        \\begin{array}{cccc}\n",
      "               1 &    0 &    0 &    0 \\\\    0 &    1 &    0 &    0 \\\\    0 &    0 &    1 &    0 \\\\    0 &    0 & -163.833 &    1\n",
      "        \\end{array}\n",
      "    \n",
      "[[ 4.09600e-01  1.23400e-01  3.67800e-01  2.94300e-01]\n",
      " [ 0.00000e+00  3.19500e-01  1.99800e-01 -4.85000e-02]\n",
      " [ 0.00000e+00  0.00000e+00 -6.00000e-04 -1.85100e-01]\n",
      " [ 0.00000e+00  0.00000e+00 -0.00000e+00  3.06426e+01]]\n",
      "[[  0.4043]\n",
      " [ -0.0667]\n",
      " [  0.0814]\n",
      " [-13.6955]]\n",
      "\n",
      "        \\begin{array}{cccc}\n",
      "            0.4096 & 0.1234 & 0.3678 & 0.2943 \\\\    0 & 0.3195 & 0.1998 & -0.0485 \\\\    0 &    0 & -0.0006 & -0.1851 \\\\    0 &    0 &   -0 & 30.6426\n",
      "        \\end{array}\n",
      "    \n",
      "\n",
      "        \\begin{array}{c}\n",
      "            0.4043 \\\\ -0.0667 \\\\ 0.0814 \\\\ -13.6955\n",
      "        \\end{array}\n",
      "    \n"
     ]
    }
   ],
   "source": [
    "R3 = np.array([\n",
    "    [1., 0., 0., 0.],\n",
    "    [0., 1., 0., 0.],\n",
    "    [0., 0., 1., 0.],\n",
    "    [0., 0., -A3[3][2] / A3[2][2], 1.]\n",
    "])\n",
    "# print(R2)\n",
    "R3 = f(R3)\n",
    "print(R3)\n",
    "\n",
    "print(matrix2latex(R3))\n",
    "\n",
    "A4 = f(R3 @ A3)\n",
    "b4 = f(R3 @ b3)\n",
    "print(A4)\n",
    "print(b4)\n",
    "print(matrix2latex(A4))\n",
    "print(matrix2latex(b4))"
   ]
  },
  {
   "cell_type": "code",
   "execution_count": 54,
   "metadata": {},
   "outputs": [
    {
     "name": "stdout",
     "output_type": "stream",
     "text": [
      "[ 0.      0.      0.     -0.4469]\n",
      "[ 0.      0.      2.202  -0.4469]\n",
      "[ 0.     -1.6536  2.202  -0.4469]\n",
      "[-0.1709 -1.6536  2.202  -0.4469]\n"
     ]
    }
   ],
   "source": [
    "x = np.zeros((4,))\n",
    "x[3] = f(b4[3] / A4[3][3])\n",
    "print(x)\n",
    "x[2] = f((b4[2] - A4[2][3] * x[3]) / A4[2][2])\n",
    "print(x)\n",
    "x[1] = f((b4[1] - A4[1][3] * x[3] - A4[1][2] * x[2]) / A4[1][1])\n",
    "print(x)\n",
    "x[0] = f((b4[0] - A4[0][3] * x[3] - A4[0][2] * x[2] - A4[0][1] * x[1]) / A4[0][0])\n",
    "print(x)\n"
   ]
  },
  {
   "cell_type": "code",
   "execution_count": 62,
   "metadata": {},
   "outputs": [
    {
     "name": "stdout",
     "output_type": "stream",
     "text": [
      "[[0.4096 0.1234 0.3678 0.2943]\n",
      " [0.2246 0.3872 0.4015 0.1129]\n",
      " [0.3645 0.192  0.3781 0.0643]\n",
      " [0.1784 0.4002 0.2786 0.3927]]\n",
      "[[ 0.4043]\n",
      " [ 0.155 ]\n",
      " [ 0.424 ]\n",
      " [-0.2557]]\n"
     ]
    }
   ],
   "source": [
    "A = np.array([\n",
    "    [0.4096, 0.1234, 0.3678, 0.2943],\n",
    "    [0.2246, 0.3872, 0.4015, 0.1129],\n",
    "    [0.3645, 0.1920, 0.3781, 0.0643],\n",
    "    [0.1784, 0.4002, 0.2786, 0.3927]\n",
    "])\n",
    "b = np.array([\n",
    "    [0.4043],\n",
    "    [0.1550],\n",
    "    [0.4240],\n",
    "    [-0.2557]\n",
    "])\n",
    "print(A)\n",
    "print(b)"
   ]
  },
  {
   "cell_type": "code",
   "execution_count": 63,
   "metadata": {},
   "outputs": [
    {
     "name": "stdout",
     "output_type": "stream",
     "text": [
      "[[ 1.      0.      0.      0.    ]\n",
      " [-0.5483  1.      0.      0.    ]\n",
      " [-0.8899  0.      1.      0.    ]\n",
      " [-0.4355  0.      0.      1.    ]]\n",
      "\n",
      "        \\begin{array}{cccc}\n",
      "               1 &    0 &    0 &    0 \\\\ -0.5483 &    1 &    0 &    0 \\\\ -0.8899 &    0 &    1 &    0 \\\\ -0.4355 &    0 &    0 &    1\n",
      "        \\end{array}\n",
      "    \n",
      "[[ 0.4096  0.1234  0.3678  0.2943]\n",
      " [ 0.      0.3195  0.1998 -0.0485]\n",
      " [-0.      0.0822  0.0508 -0.1976]\n",
      " [ 0.      0.3465  0.1184  0.2645]]\n",
      "[[ 0.4043]\n",
      " [-0.0667]\n",
      " [ 0.0642]\n",
      " [-0.4318]]\n"
     ]
    }
   ],
   "source": [
    "R = np.array([\n",
    "    [1., 0., 0., 0.],\n",
    "    [-A[1][0] / A[0][0], 1., 0., 0.],\n",
    "    [-A[2][0] / A[0][0], 0., 1., 0.],\n",
    "    [-A[3][0] / A[0][0], 0., 0., 1.]\n",
    "])\n",
    "\n",
    "f = round_n(4)\n",
    "R = f(R)\n",
    "\n",
    "print(R)\n",
    "print(matrix2latex(R))\n",
    "\n",
    "A2 = f(R @ A)\n",
    "b2 = f(R @ b)\n",
    "\n",
    "print(A2)\n",
    "print(b2)"
   ]
  },
  {
   "cell_type": "code",
   "execution_count": 64,
   "metadata": {},
   "outputs": [
    {
     "name": "stdout",
     "output_type": "stream",
     "text": [
      "[[ 0.4096  0.1234  0.3678  0.2943]\n",
      " [ 0.      0.3465  0.1184  0.2645]\n",
      " [ 0.      0.0822  0.0508 -0.1976]\n",
      " [ 0.      0.3195  0.1998 -0.0485]]\n",
      "[[ 0.4043]\n",
      " [-0.4318]\n",
      " [ 0.0642]\n",
      " [-0.0667]]\n"
     ]
    }
   ],
   "source": [
    "P2 = np.array([\n",
    "    [1., 0., 0., 0.],\n",
    "    [0., 0., 0., 1.],\n",
    "    [0., 0., 1., 0.],\n",
    "    [0., 1., 0., 0.]\n",
    "])\n",
    "A2 = P2 @ A2\n",
    "b2 = P2 @ b2\n",
    "print(A2)\n",
    "print(b2)"
   ]
  },
  {
   "cell_type": "code",
   "execution_count": 65,
   "metadata": {},
   "outputs": [
    {
     "name": "stdout",
     "output_type": "stream",
     "text": [
      "\n",
      "        \\begin{array}{cccc}\n",
      "               1 &    0 &    0 &    0 \\\\    0 &    0 &    0 &    1 \\\\    0 &    0 &    1 &    0 \\\\    0 &    1 &    0 &    0\n",
      "        \\end{array}\n",
      "    \n"
     ]
    }
   ],
   "source": [
    "print(matrix2latex(P2))"
   ]
  },
  {
   "cell_type": "code",
   "execution_count": 66,
   "metadata": {},
   "outputs": [
    {
     "name": "stdout",
     "output_type": "stream",
     "text": [
      "[[ 1.      0.      0.      0.    ]\n",
      " [ 0.      1.      0.      0.    ]\n",
      " [ 0.     -0.2372  1.      0.    ]\n",
      " [ 0.     -0.9221  0.      1.    ]]\n",
      "\n",
      "        \\begin{array}{cccc}\n",
      "               1 &    0 &    0 &    0 \\\\    0 &    1 &    0 &    0 \\\\    0 & -0.2372 &    1 &    0 \\\\    0 & -0.9221 &    0 &    1\n",
      "        \\end{array}\n",
      "    \n",
      "[[ 0.4096  0.1234  0.3678  0.2943]\n",
      " [ 0.      0.3465  0.1184  0.2645]\n",
      " [ 0.      0.      0.0227 -0.2603]\n",
      " [ 0.     -0.      0.0906 -0.2924]]\n",
      "[[ 0.4043]\n",
      " [-0.4318]\n",
      " [ 0.1666]\n",
      " [ 0.3315]]\n"
     ]
    }
   ],
   "source": [
    "R2 = np.array([\n",
    "    [1., 0., 0., 0.],\n",
    "    [0., 1., 0., 0.],\n",
    "    [0., -A2[2][1] / A2[1][1], 1., 0.],\n",
    "    [0., -A2[3][1] / A2[1][1], 0., 1.]\n",
    "])\n",
    "R2 = f(R2)\n",
    "print(R2)\n",
    "print(matrix2latex(R2))\n",
    "A2 = f(R2 @ A2)\n",
    "b2 = f(R2 @ b2)\n",
    "print(A2)\n",
    "print(b2)"
   ]
  },
  {
   "cell_type": "code",
   "execution_count": 67,
   "metadata": {},
   "outputs": [
    {
     "name": "stdout",
     "output_type": "stream",
     "text": [
      "\n",
      "        \\begin{array}{cccc}\n",
      "               1 &    0 &    0 &    0 \\\\    0 &    1 &    0 &    0 \\\\    0 &    0 &    0 &    1 \\\\    0 &    0 &    1 &    0\n",
      "        \\end{array}\n",
      "    \n",
      "[[ 0.4096  0.1234  0.3678  0.2943]\n",
      " [ 0.      0.3465  0.1184  0.2645]\n",
      " [ 0.      0.      0.0906 -0.2924]\n",
      " [ 0.      0.      0.0227 -0.2603]]\n",
      "[[ 0.4043]\n",
      " [-0.4318]\n",
      " [ 0.3315]\n",
      " [ 0.1666]]\n"
     ]
    }
   ],
   "source": [
    "P3 = np.array([\n",
    "    [1., 0., 0., 0.],\n",
    "    [0., 1., 0., 0.],\n",
    "    [0., 0., 0., 1.],\n",
    "    [0., 0., 1., 0.]\n",
    "])\n",
    "print(matrix2latex(P3))\n",
    "A3 = P3 @ A2\n",
    "b3 = P3 @ b2 \n",
    "print(A3)\n",
    "print(b3)\n"
   ]
  },
  {
   "cell_type": "code",
   "execution_count": 68,
   "metadata": {},
   "outputs": [
    {
     "name": "stdout",
     "output_type": "stream",
     "text": [
      "[[ 1.      0.      0.      0.    ]\n",
      " [ 0.      1.      0.      0.    ]\n",
      " [ 0.      0.      1.      0.    ]\n",
      " [ 0.      0.     -0.2506  1.    ]]\n",
      "\n",
      "        \\begin{array}{cccc}\n",
      "               1 &    0 &    0 &    0 \\\\    0 &    1 &    0 &    0 \\\\    0 &    0 &    1 &    0 \\\\    0 &    0 & -0.2506 &    1\n",
      "        \\end{array}\n",
      "    \n",
      "[[ 0.4096  0.1234  0.3678  0.2943]\n",
      " [ 0.      0.3465  0.1184  0.2645]\n",
      " [ 0.      0.      0.0906 -0.2924]\n",
      " [ 0.      0.     -0.     -0.187 ]]\n",
      "[[ 0.4043]\n",
      " [-0.4318]\n",
      " [ 0.3315]\n",
      " [ 0.0835]]\n",
      "\n",
      "        \\begin{array}{cccc}\n",
      "            0.4096 & 0.1234 & 0.3678 & 0.2943 \\\\    0 & 0.3465 & 0.1184 & 0.2645 \\\\    0 &    0 & 0.0906 & -0.2924 \\\\    0 &    0 &   -0 & -0.187\n",
      "        \\end{array}\n",
      "    \n",
      "\n",
      "        \\begin{array}{c}\n",
      "            0.4043 \\\\ -0.4318 \\\\ 0.3315 \\\\ 0.0835\n",
      "        \\end{array}\n",
      "    \n"
     ]
    }
   ],
   "source": [
    "R3 = np.array([\n",
    "    [1., 0., 0., 0.],\n",
    "    [0., 1., 0., 0.],\n",
    "    [0., 0., 1., 0.],\n",
    "    [0., 0., -A3[3][2] / A3[2][2], 1.]\n",
    "])\n",
    "R3 = f(R3)\n",
    "print(R3)\n",
    "print(matrix2latex(R3))\n",
    "A4 = f(R3 @ A3)\n",
    "b4 = f(R3 @ b3)\n",
    "print(A4)\n",
    "print(b4)\n",
    "print(matrix2latex(A4))\n",
    "print(matrix2latex(b4))"
   ]
  },
  {
   "cell_type": "code",
   "execution_count": 69,
   "metadata": {},
   "outputs": [
    {
     "name": "stdout",
     "output_type": "stream",
     "text": [
      "[ 0.      0.      0.     -0.4465]\n",
      "[ 0.      0.      2.2179 -0.4465]\n",
      "[ 0.     -1.6632  2.2179 -0.4465]\n",
      "[-0.1826 -1.6632  2.2179 -0.4465]\n"
     ]
    }
   ],
   "source": [
    "x = np.zeros((4,))\n",
    "x[3] = f(b4[3] / A4[3][3])\n",
    "print(x)\n",
    "x[2] = f((b4[2] - A4[2][3] * x[3]) / A4[2][2])\n",
    "print(x)\n",
    "x[1] = f((b4[1] - A4[1][3] * x[3] - A4[1][2] * x[2]) / A4[1][1])\n",
    "print(x)\n",
    "x[0] = f((b4[0] - A4[0][3] * x[3] - A4[0][2] * x[2] - A4[0][1] * x[1]) / A4[0][0])\n",
    "print(x)"
   ]
  },
  {
   "cell_type": "code",
   "execution_count": 70,
   "metadata": {},
   "outputs": [
    {
     "name": "stdout",
     "output_type": "stream",
     "text": [
      "[[0.4096 0.1234 0.3678 0.2943]\n",
      " [0.2246 0.3872 0.4015 0.1129]\n",
      " [0.3645 0.192  0.3781 0.0643]\n",
      " [0.1784 0.4002 0.2786 0.3927]]\n",
      "[[ 0.4043]\n",
      " [ 0.155 ]\n",
      " [ 0.424 ]\n",
      " [-0.2557]]\n"
     ]
    }
   ],
   "source": [
    "print(A)\n",
    "print(b)"
   ]
  },
  {
   "cell_type": "code",
   "execution_count": 73,
   "metadata": {},
   "outputs": [
    {
     "name": "stdout",
     "output_type": "stream",
     "text": [
      "[-0.1709 -1.6536  2.202  -0.4469]\n",
      "[[-0.1826]\n",
      " [-1.6632]\n",
      " [ 2.2179]\n",
      " [-0.4465]]\n",
      "[[ 1.8050000e-05 -2.4931007e-01  1.9756280e-02 -6.5857971e-01]\n",
      " [ 2.4931805e-01 -1.0070000e-05  2.6905628e-01 -4.0927971e-01]\n",
      " [-1.9681950e-02 -2.6901007e-01  5.6280000e-05 -6.7827971e-01]\n",
      " [ 6.6001805e-01  4.1068993e-01  6.7975628e-01  1.4202900e-03]]\n",
      "[[ 6.830e-06]\n",
      " [ 7.400e-05]\n",
      " [-1.406e-05]\n",
      " [ 7.791e-05]]\n",
      "1.5483899821328344 0.00010858315062676791\n"
     ]
    }
   ],
   "source": [
    "x = np.array([-0.1709, -1.6536,  2.2020,  -0.4469]).reshape(-1, )\n",
    "x1 = np.array([-0.1826, -1.6632,  2.2179, -0.4465]).reshape(-1, 1)\n",
    "print(x)\n",
    "print(x1)\n",
    "e = A @ x - b \n",
    "e1 = A @ x1 - b\n",
    "print(e)\n",
    "print(e1)\n",
    "print(np.linalg.norm(e), np.linalg.norm(e1))"
   ]
  },
  {
   "cell_type": "code",
   "execution_count": 96,
   "metadata": {},
   "outputs": [
    {
     "name": "stdout",
     "output_type": "stream",
     "text": [
      "[[ 0.6428  0.3475 -0.8468]\n",
      " [ 0.3475  1.8423  0.4759]\n",
      " [-0.8468  0.4759  1.2147]]\n",
      "[[ 0.4127]\n",
      " [ 1.7321]\n",
      " [-0.8621]]\n",
      "\n",
      "        \\left[\\begin{array}{ccc}\n",
      "            0.6428 & 0.3475 & -0.8468 \\\\ 0.3475 & 1.8423 & 0.4759 \\\\ -0.8468 & 0.4759 & 1.2147\n",
      "        \\end{array}\\right]\n",
      "    \n",
      "\n",
      "        \\left[\\begin{array}{c}\n",
      "            0.4127 \\\\ 1.7321 \\\\ -0.8621\n",
      "        \\end{array}\\right]\n",
      "    \n"
     ]
    }
   ],
   "source": [
    "A = np.array([\n",
    "    [0.6428, 0.3475, -0.8468],\n",
    "    [0.3475, 1.8423, 0.4759],\n",
    "    [-0.8468, 0.4759, 1.2147]\n",
    "])\n",
    "b = np.array([\n",
    "    [0.4127],\n",
    "    [1.7321],\n",
    "    [-0.8621]\n",
    "])\n",
    "print(A)\n",
    "print(b)\n",
    "print(matrix2latex(A))\n",
    "print(matrix2latex(b))"
   ]
  },
  {
   "cell_type": "code",
   "execution_count": 97,
   "metadata": {},
   "outputs": [
    {
     "name": "stdout",
     "output_type": "stream",
     "text": [
      "\n",
      "        \\left[\\begin{array}{ccc}\n",
      "              0 &   0 &   1 \\\\   0 &   1 &   0 \\\\   1 &   0 &   0\n",
      "        \\end{array}\\right]\n",
      "    \n",
      "\n",
      "        \\left[\\begin{array}{ccc}\n",
      "              1 &   0 &   0 \\\\ -0.410368 &   1 &   0 \\\\ -0.759093 & 0.347838 &   1\n",
      "        \\end{array}\\right]\n",
      "    \n",
      "\n",
      "        \\left[\\begin{array}{ccc}\n",
      "            -0.8468 & 0.4759 & 1.2147 \\\\   0 & 2.03759 & 0.974375 \\\\   0 &   0 & -0.263654\n",
      "        \\end{array}\\right]\n",
      "    \n"
     ]
    }
   ],
   "source": [
    "from scipy.linalg import lu \n",
    "P, L, U = lu(A)\n",
    "print(matrix2latex(P))\n",
    "print(matrix2latex(L))\n",
    "print(matrix2latex(U))"
   ]
  },
  {
   "cell_type": "code",
   "execution_count": 95,
   "metadata": {},
   "outputs": [
    {
     "name": "stdout",
     "output_type": "stream",
     "text": [
      "[[ 4.58668603]\n",
      " [-0.63152317]\n",
      " [ 2.73520014]]\n",
      "\n",
      "        \\left[\\begin{array}{c}\n",
      "            4.58669 \\\\ -0.631523 \\\\ 2.7352\n",
      "        \\end{array}\\right]\n",
      "    \n",
      "[[3.88578059e-16]\n",
      " [4.44089210e-16]\n",
      " [3.33066907e-16]]\n"
     ]
    }
   ],
   "source": [
    "# Ax = b\n",
    "# PAx = Pb\n",
    "# LUx = Pb\n",
    "# x = U^-1 L^-1 L U x = U^-1 L^-1 P b\n",
    "x = np.linalg.inv(U) @ np.linalg.inv(L) @ P @ b \n",
    "print(x)\n",
    "print(matrix2latex(x))\n",
    "print(A @ x - b)"
   ]
  },
  {
   "cell_type": "markdown",
   "metadata": {},
   "source": [
    "<img src='./temp1.png'>"
   ]
  },
  {
   "cell_type": "code",
   "execution_count": 103,
   "metadata": {},
   "outputs": [
    {
     "name": "stdout",
     "output_type": "stream",
     "text": [
      "[[ 2.  1. -3. -1.]\n",
      " [ 3.  1.  0.  7.]\n",
      " [-1.  2.  4. -2.]\n",
      " [ 1.  0. -1.  5.]]\n",
      "[[0. 1. 0. 0.]\n",
      " [0. 0. 1. 0.]\n",
      " [1. 0. 0. 0.]\n",
      " [0. 0. 0. 1.]]\n",
      "[[ 1.          0.          0.          0.        ]\n",
      " [-0.33333333  1.          0.          0.        ]\n",
      " [ 0.66666667  0.14285714  1.          0.        ]\n",
      " [ 0.33333333 -0.14285714  0.12        1.        ]]\n",
      "[[ 3.          1.          0.          7.        ]\n",
      " [ 0.          2.33333333  4.          0.33333333]\n",
      " [ 0.          0.         -3.57142857 -5.71428571]\n",
      " [ 0.          0.          0.          3.4       ]]\n",
      "[[ 1.          0.          0.          0.        ]\n",
      " [ 0.33333333  1.          0.          0.        ]\n",
      " [-0.71428571 -0.14285714  1.          0.        ]\n",
      " [-0.2         0.16       -0.12        1.        ]]\n",
      "[[ 0.33333333 -0.14285714 -0.16       -0.94117647]\n",
      " [ 0.          0.42857143  0.48        0.76470588]\n",
      " [-0.         -0.         -0.28       -0.47058824]\n",
      " [ 0.          0.          0.          0.29411765]]\n",
      "\n",
      "        \\left[\\begin{array}{cccc}\n",
      "               0 &    1 &    0 &    0 \\\\    0 &    0 &    1 &    0 \\\\    1 &    0 &    0 &    0 \\\\    0 &    0 &    0 &    1\n",
      "        \\end{array}\\right]\n",
      "    \n",
      "\n",
      "        \\left[\\begin{array}{cccc}\n",
      "               1 &    0 &    0 &    0 \\\\ 0.333333 &    1 &    0 &    0 \\\\ -0.714286 & -0.142857 &    1 &    0 \\\\ -0.2 & 0.16 & -0.12 &    1\n",
      "        \\end{array}\\right]\n",
      "    \n",
      "\n",
      "        \\left[\\begin{array}{cccc}\n",
      "            0.333333 & -0.142857 & -0.16 & -0.941176 \\\\    0 & 0.428571 & 0.48 & 0.764706 \\\\   -0 &   -0 & -0.28 & -0.470588 \\\\    0 &    0 &    0 & 0.294118\n",
      "        \\end{array}\\right]\n",
      "    \n"
     ]
    }
   ],
   "source": [
    "A = np.array([\n",
    "    [2., 1., -3., -1.],\n",
    "    [3., 1., 0., 7.],\n",
    "    [-1., 2., 4., -2.],\n",
    "    [1., 0., -1., 5.]\n",
    "])\n",
    "print(A)\n",
    "\n",
    "P, L, U = lu(A)\n",
    "P = np.linalg.inv(P)\n",
    "print(P)\n",
    "print(L)\n",
    "print(U)\n",
    "L_ = np.linalg.inv(L)\n",
    "U_ = np.linalg.inv(U)\n",
    "print(L_)\n",
    "print(U_)\n",
    "print(matrix2latex(P))\n",
    "print(matrix2latex(L_))\n",
    "print(matrix2latex(U_))"
   ]
  },
  {
   "cell_type": "code",
   "execution_count": 105,
   "metadata": {},
   "outputs": [
    {
     "name": "stdout",
     "output_type": "stream",
     "text": [
      "[[0.00000000e+00 0.00000000e+00 0.00000000e+00 0.00000000e+00]\n",
      " [0.00000000e+00 0.00000000e+00 0.00000000e+00 0.00000000e+00]\n",
      " [0.00000000e+00 0.00000000e+00 0.00000000e+00 0.00000000e+00]\n",
      " [0.00000000e+00 2.11471052e-17 0.00000000e+00 0.00000000e+00]]\n"
     ]
    }
   ],
   "source": [
    "print(P @ A - L @ U)"
   ]
  },
  {
   "cell_type": "code",
   "execution_count": 107,
   "metadata": {},
   "outputs": [
    {
     "name": "stdout",
     "output_type": "stream",
     "text": [
      "\n",
      "        \\left[\\begin{array}{cccc}\n",
      "               2 &    1 &   -3 &   -1 \\\\    3 &    1 &    0 &    7 \\\\   -1 &    2 &    4 &   -2 \\\\    1 &    0 &   -1 &    5\n",
      "        \\end{array}\\right]\n",
      "    \n",
      "[[ -4.  50. -23. -80.]\n",
      " [ 33. -30.  41.  65.]\n",
      " [-19.  25.  -3. -40.]\n",
      " [ -3.  -5.   4.  25.]]\n",
      "[[ 1.00000000e+00  0.00000000e+00  0.00000000e+00 -6.66133815e-16]\n",
      " [ 1.11022302e-16  1.00000000e+00  1.11022302e-16  3.33066907e-16]\n",
      " [ 0.00000000e+00  1.38777878e-17  1.00000000e+00  2.22044605e-16]\n",
      " [ 0.00000000e+00  0.00000000e+00  0.00000000e+00  1.00000000e+00]]\n",
      "\n",
      "        \\left[\\begin{array}{cccc}\n",
      "              -4 &   50 &  -23 &  -80 \\\\   33 &  -30 &   41 &   65 \\\\  -19 &   25 &   -3 &  -40 \\\\   -3 &   -5 &    4 &   25\n",
      "        \\end{array}\\right]\n",
      "    \n"
     ]
    }
   ],
   "source": [
    "print(matrix2latex(A))\n",
    "\n",
    "A_ = (U_) @ (L_) @ P \n",
    "print(85 * A_)\n",
    "print(A_ @ A)\n",
    "print(matrix2latex(85 * A_))"
   ]
  },
  {
   "cell_type": "code",
   "execution_count": 92,
   "metadata": {},
   "outputs": [
    {
     "name": "stdout",
     "output_type": "stream",
     "text": [
      "[[ 2.  1. -3. -1.]\n",
      " [ 3.  1.  0.  7.]\n",
      " [-1.  2.  4. -2.]\n",
      " [ 1.  0. -1.  5.]]\n",
      "[[-1.  2.  4. -2.]\n",
      " [ 2.  1. -3. -1.]\n",
      " [ 3.  1.  0.  7.]\n",
      " [ 1.  0. -1.  5.]]\n",
      "[[-1.          2.          4.         -2.        ]\n",
      " [ 1.66666667  1.66666667 -1.66666667 -1.66666667]\n",
      " [ 3.42857143 -0.57142857 -2.42857143  8.57142857]\n",
      " [ 1.16       -0.36       -2.28        4.4       ]]\n"
     ]
    }
   ],
   "source": [
    "print(A)\n",
    "print(P @ A)\n",
    "print(L_ @ P @ A)"
   ]
  },
  {
   "cell_type": "code",
   "execution_count": 111,
   "metadata": {},
   "outputs": [
    {
     "name": "stdout",
     "output_type": "stream",
     "text": [
      "[[ 1.  2.  3.]\n",
      " [ 2.  3.  4.]\n",
      " [-1.  0.  0.]]\n",
      "[[ 0.34522186  0.93704257  0.05266009]\n",
      " [ 0.54914188 -0.15617376 -0.82100728]\n",
      " [ 0.76109465 -0.31234752  0.56848391]]\n",
      "[[ 4.29767316e+01  3.46978577e-17  2.11994168e-15]\n",
      " [ 0.00000000e+00  1.00000000e+00 -1.64594839e-16]\n",
      " [ 0.00000000e+00  0.00000000e+00  2.32684051e-02]]\n",
      "44.0 44.000000000000014\n"
     ]
    }
   ],
   "source": [
    "from scipy.linalg import schur\n",
    "\n",
    "A = np.array([\n",
    "    [1., 2., 3.],\n",
    "    [2., 3., 4.],\n",
    "    [-1., 0., 0.]\n",
    "])\n",
    "print(A)\n",
    "ATA = A.T @ A\n",
    "T, Z = schur(ATA)\n",
    "print(Z)\n",
    "print(T)\n",
    "print(np.trace(ATA), np.trace(T))"
   ]
  },
  {
   "cell_type": "code",
   "execution_count": 119,
   "metadata": {},
   "outputs": [
    {
     "name": "stdout",
     "output_type": "stream",
     "text": [
      "[[ 0.5        0.8660254]\n",
      " [ 0.8660254 -0.5      ]]\n",
      "[[1.75       1.29903811]\n",
      " [1.29903811 3.25      ]]\n",
      "[[1. 0.]\n",
      " [0. 4.]]\n",
      "[[-0.8660254 -0.5      ]\n",
      " [ 0.5       -0.8660254]]\n"
     ]
    }
   ],
   "source": [
    "Q = np.array([\n",
    "    [1./2., 3.**0.5 / 2.],\n",
    "    [3.**0.5 / 2., -1./2.]\n",
    "])\n",
    "print(Q)\n",
    "D = np.array([\n",
    "    [4., 0.],\n",
    "    [0., 1.]\n",
    "])\n",
    "A = Q @ D @ Q.T \n",
    "print(A)\n",
    "\n",
    "T, Z = schur(A)\n",
    "print(T)\n",
    "print(Z)"
   ]
  },
  {
   "cell_type": "code",
   "execution_count": 124,
   "metadata": {},
   "outputs": [
    {
     "name": "stdout",
     "output_type": "stream",
     "text": [
      "[[-0.8660254  -1.        ]\n",
      " [ 0.5        -1.73205081]]\n",
      "[1. 4.]\n"
     ]
    }
   ],
   "source": [
    "W = Z @ (T ** 0.5)\n",
    "print(W)\n",
    "\n",
    "print(np.linalg.eigvals(W.T@W))"
   ]
  }
 ],
 "metadata": {
  "kernelspec": {
   "display_name": "Python 3.9.12 ('base')",
   "language": "python",
   "name": "python3"
  },
  "language_info": {
   "codemirror_mode": {
    "name": "ipython",
    "version": 3
   },
   "file_extension": ".py",
   "mimetype": "text/x-python",
   "name": "python",
   "nbconvert_exporter": "python",
   "pygments_lexer": "ipython3",
   "version": "3.9.12"
  },
  "orig_nbformat": 4,
  "vscode": {
   "interpreter": {
    "hash": "ec63101c21e71608893e29d9792dc52902399b58fcc20eb213f1ff21b7945ad4"
   }
  }
 },
 "nbformat": 4,
 "nbformat_minor": 2
}
